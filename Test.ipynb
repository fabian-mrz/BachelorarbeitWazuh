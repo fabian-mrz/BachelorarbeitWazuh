{
 "cells": [
  {
   "cell_type": "code",
   "execution_count": 12,
   "metadata": {},
   "outputs": [
    {
     "name": "stdout",
     "output_type": "stream",
     "text": [
      "Response: {'message': 'Incident created', 'id': 'TEST_1732203209'}\n"
     ]
    }
   ],
   "source": [
    "import requests\n",
    "import json\n",
    "from datetime import datetime, timedelta\n",
    "\n",
    "# Create timestamps\n",
    "now = datetime.now()\n",
    "first_event_time = now - timedelta(minutes=5)  # 5 minutes ago\n",
    "last_event_time = now\n",
    "\n",
    "# Build test incident payload\n",
    "test_incident = {\n",
    "    \"id\": f\"TEST_{int(now.timestamp())}\",\n",
    "    \"timestamp\": now.isoformat(),\n",
    "    \"description\": json.dumps({\n",
    "        \"rule_id\": \"9999\",\n",
    "        \"rule_description\": \" Davis\",\n",
    "        \"rule_level\": 10,\n",
    "        \"total_events\": 2,\n",
    "        \"agent_names\": [\"Blue Iris\"],\n",
    "        \"first_event_timestamp\": first_event_time.isoformat(),\n",
    "        \"last_event_timestamp\": last_event_time.isoformat(),\n",
    "        \"sample_event\": {\n",
    "            \"rule\": {\n",
    "                \"id\": \"834613\",\n",
    "                \"description\": \"Critical Camera Alert\",\n",
    "                \"level\": 10\n",
    "            },\n",
    "            \"agent\": {\n",
    "                \"name\": \"Blue Iris\",\n",
    "                \"id\": \"001\"\n",
    "            },\n",
    "            \"timestamp\": first_event_time.isoformat(),\n",
    "            \"data\": {\n",
    "                \"service\": \"nginx\",\n",
    "                \"status\": \"stopped\",\n",
    "                \"exit_code\": 1\n",
    "            }\n",
    "        },\n",
    "        \"csv_path\": \"/incidents/test/events.csv\"\n",
    "    }),\n",
    "    \"acknowledged\": False,\n",
    "    \"escalated\": False\n",
    "}\n",
    "\n",
    "# Send POST request using requests module\n",
    "response = requests.post(\n",
    "    url='http://0.0.0.0:8000/incidents/',\n",
    "    headers={'Content-Type': 'application/json'},\n",
    "    json=test_incident\n",
    ")\n",
    "\n",
    "if response.status_code != 200:\n",
    "    print('Error:', response.status_code, response.text)\n",
    "else:\n",
    "    print('Response:', response.json())"
   ]
  },
  {
   "cell_type": "code",
   "execution_count": 1,
   "metadata": {},
   "outputs": [
    {
     "name": "stderr",
     "output_type": "stream",
     "text": [
      "INFO:__main__:Admin user created successfully\n",
      "INFO:__main__:Analyst user created successfully\n"
     ]
    }
   ],
   "source": [
    "#!/usr/bin/env python3\n",
    "from auth import register_user, SessionLocal, Base, engine\n",
    "from fastapi import HTTPException\n",
    "import logging\n",
    "\n",
    "logging.basicConfig(level=logging.INFO)\n",
    "logger = logging.getLogger(__name__)\n",
    "\n",
    "def init_db():\n",
    "    # Create tables\n",
    "    Base.metadata.create_all(bind=engine)\n",
    "    \n",
    "    success = True\n",
    "    try:\n",
    "        # Create admin user\n",
    "        admin_user = register_user(\"admin\", \"admin\", role=\"admin\")\n",
    "        logger.info(\"Admin user created successfully\")\n",
    "        \n",
    "        # Create analyst user\n",
    "        analyst_user = register_user(\"analyst\", \"analyst\", role=\"analyst\")\n",
    "        logger.info(\"Analyst user created successfully\")\n",
    "        \n",
    "    except HTTPException as e:\n",
    "        if e.detail == \"Username already registered\":\n",
    "            logger.info(\"User already exists\")\n",
    "        else:\n",
    "            logger.error(f\"Error creating user: {e.detail}\")\n",
    "        success = False\n",
    "    except Exception as e:\n",
    "        logger.error(f\"Unexpected error: {str(e)}\")\n",
    "        success = False\n",
    "    \n",
    "    return success\n",
    "\n",
    "if __name__ == \"__main__\":\n",
    "    init_db()"
   ]
  },
  {
   "cell_type": "code",
   "execution_count": null,
   "metadata": {},
   "outputs": [],
   "source": []
  },
  {
   "cell_type": "code",
   "execution_count": 2,
   "metadata": {},
   "outputs": [
    {
     "name": "stdout",
     "output_type": "stream",
     "text": [
      "\n",
      "All users in database:\n",
      "------------------------------------------------------------\n",
      "id: 1\n",
      "username: admin\n",
      "password_hash: $2b$12$ap0hKShD7yOCWdy0QPunhuzUU0k3j4thHe9TvjLQfKGiEwEtsdbTy\n",
      "role: admin\n",
      "------------------------------------------------------------\n",
      "id: 2\n",
      "username: analyst\n",
      "password_hash: $2b$12$5VBOr4ayHb6hsxSkzTR5BugtExKpTGaWy3ZJ7PWnDztDm2jwMB/BC\n",
      "role: analyst\n",
      "------------------------------------------------------------\n"
     ]
    }
   ],
   "source": [
    "#!/usr/bin/env python3\n",
    "from auth import SessionLocal, User\n",
    "import logging\n",
    "from sqlalchemy import inspect\n",
    "\n",
    "logging.basicConfig(level=logging.INFO)\n",
    "logger = logging.getLogger(__name__)\n",
    "\n",
    "def print_all_users():\n",
    "    db = SessionLocal()\n",
    "    try:\n",
    "        # Get all columns from User model\n",
    "        inspector = inspect(User)\n",
    "        columns = [c.key for c in inspector.mapper.column_attrs]\n",
    "        \n",
    "        # Query all users\n",
    "        users = db.query(User).all()\n",
    "        \n",
    "        print(\"\\nAll users in database:\")\n",
    "        for user in users:\n",
    "            print(\"-\" * 60)\n",
    "            # Print all columns for each user\n",
    "            for col in columns:\n",
    "                value = getattr(user, col)\n",
    "                print(f\"{col}: {value}\")\n",
    "        print(\"-\" * 60)\n",
    "            \n",
    "    except Exception as e:\n",
    "        logger.error(f\"Error querying database: {str(e)}\")\n",
    "    finally:\n",
    "        db.close()\n",
    "\n",
    "if __name__ == \"__main__\":\n",
    "    print_all_users()"
   ]
  },
  {
   "cell_type": "markdown",
   "metadata": {},
   "source": []
  },
  {
   "cell_type": "markdown",
   "metadata": {},
   "source": []
  },
  {
   "cell_type": "code",
   "execution_count": 5,
   "metadata": {},
   "outputs": [
    {
     "name": "stdout",
     "output_type": "stream",
     "text": [
      "True\n"
     ]
    }
   ],
   "source": [
    "enabled = \"False\"\n",
    "if enabled == \"True\":\n",
    "    print(\"Enabled\")"
   ]
  },
  {
   "cell_type": "code",
   "execution_count": null,
   "metadata": {},
   "outputs": [],
   "source": []
  }
 ],
 "metadata": {
  "kernelspec": {
   "display_name": "base",
   "language": "python",
   "name": "python3"
  },
  "language_info": {
   "codemirror_mode": {
    "name": "ipython",
    "version": 3
   },
   "file_extension": ".py",
   "mimetype": "text/x-python",
   "name": "python",
   "nbconvert_exporter": "python",
   "pygments_lexer": "ipython3",
   "version": "3.11.4"
  }
 },
 "nbformat": 4,
 "nbformat_minor": 2
}
