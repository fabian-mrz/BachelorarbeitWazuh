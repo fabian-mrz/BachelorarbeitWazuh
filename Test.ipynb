{
 "cells": [
  {
   "cell_type": "code",
   "execution_count": 15,
   "metadata": {},
   "outputs": [],
   "source": [
    "alert_json = {\n",
    "    \"rule\": {\n",
    "        \"id\": \"62122\",\n",
    "        \"description\": \"Suspicious logon attempt detected\",\n",
    "        \"level\": \"high\",\n",
    "        \"mitre\": {\n",
    "            \"tactic\": [\"Initial Access\", \"Execution\"],\n",
    "            \"technique\": [\"T1078\", \"T1059\"]\n",
    "        }\n",
    "    },\n",
    "    \"agent\": {\n",
    "        \"name\": \"Agent001\"\n",
    "    },\n",
    "    \"timestamp\": \"2023-10-01T12:34:56Z\",\n",
    "    \"data\": {\n",
    "        \"win\": {\n",
    "            \"system\": {\n",
    "                \"eventID\": \"4625\",\n",
    "                \"providerName\": \"Microsoft-Windows-Security-Auditing\"\n",
    "            },\n",
    "            \"eventdata\": {\n",
    "                \"logonType\": \"3\",\n",
    "                \"ipAddress\": \"192.168.1.100\",\n",
    "                \"failureReason\": \"Unknown user name or bad password\"\n",
    "            }\n",
    "        }\n",
    "    },\n",
    "    \"location\": \"Server Room 1\"\n",
    "}"
   ]
  },
  {
   "cell_type": "code",
   "execution_count": 18,
   "metadata": {},
   "outputs": [
    {
     "name": "stdout",
     "output_type": "stream",
     "text": [
      "<Response [200]>\n"
     ]
    }
   ],
   "source": [
    "import sys\n",
    "import json\n",
    "import requests\n",
    "import configparser\n",
    "from requests.auth import HTTPBasicAuth\n",
    "\n",
    "# Read configuration from config.ini\n",
    "config = configparser.ConfigParser()\n",
    "config.read('config.ini')\n",
    "\n",
    "CHAT_ID = config['telegram']['CHAT_ID']\n",
    "HOOK_URL = config['telegram']['HOOK_URL']\n",
    "\n",
    "# Extract common data fields\n",
    "alert_level = alert_json['rule']['level'] if 'level' in alert_json['rule'] else \"N/A\"\n",
    "description = alert_json['rule']['description'] if 'description' in alert_json['rule'] else \"N/A\"\n",
    "agent = alert_json['agent']['name'] if 'name' in alert_json['agent'] else \"N/A\"\n",
    "rule_id = alert_json['rule']['id'] if 'id' in alert_json['rule'] else \"N/A\"\n",
    "\n",
    "def load_and_fill_template(template_path, data):\n",
    "    with open(template_path, 'r') as template_file:\n",
    "        template_json = json.load(template_file)\n",
    "    template = template_json['template']\n",
    "    fields = template_json['fields']\n",
    "    \n",
    "    # Populate data dynamically\n",
    "    populated_data = {key: eval(value) for key, value in fields.items()}\n",
    "    \n",
    "    return template.format(**populated_data)\n",
    "\n",
    "# Define a function to get message data based on rule_id\n",
    "def get_message_data(rule_id, alert_json):\n",
    "    template_path = f'{rule_id}.json'\n",
    "    try:\n",
    "        message = load_and_fill_template(template_path, alert_json)\n",
    "    except FileNotFoundError:\n",
    "        # Fallback to default template\n",
    "        message = load_and_fill_template(\"default.json\", alert_json)\n",
    "    return {\n",
    "        'chat_id': CHAT_ID,\n",
    "        'text': message\n",
    "    }\n",
    "\n",
    "\n",
    "# Get message data based on rule_id\n",
    "msg_data = get_message_data(rule_id, alert_json)\n",
    "headers = {'content-type': 'application/json', 'Accept-Charset': 'UTF-8'}\n",
    "\n",
    "# Send the request\n",
    "response = requests.post(HOOK_URL, headers=headers, data=json.dumps(msg_data))\n",
    "print(response)"
   ]
  },
  {
   "cell_type": "code",
   "execution_count": null,
   "metadata": {},
   "outputs": [],
   "source": []
  }
 ],
 "metadata": {
  "kernelspec": {
   "display_name": "base",
   "language": "python",
   "name": "python3"
  },
  "language_info": {
   "codemirror_mode": {
    "name": "ipython",
    "version": 3
   },
   "file_extension": ".py",
   "mimetype": "text/x-python",
   "name": "python",
   "nbconvert_exporter": "python",
   "pygments_lexer": "ipython3",
   "version": "3.11.4"
  }
 },
 "nbformat": 4,
 "nbformat_minor": 2
}
