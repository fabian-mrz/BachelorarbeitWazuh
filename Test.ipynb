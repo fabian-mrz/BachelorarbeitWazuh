{
 "cells": [
  {
   "cell_type": "code",
   "execution_count": 10,
   "metadata": {},
   "outputs": [
    {
     "name": "stdout",
     "output_type": "stream",
     "text": [
      "Response: {'message': 'Incident created', 'id': 'TEST_1731592123'}\n"
     ]
    }
   ],
   "source": [
    "import requests\n",
    "import json\n",
    "from datetime import datetime, timedelta\n",
    "\n",
    "# Create timestamps\n",
    "now = datetime.now()\n",
    "first_event_time = now - timedelta(minutes=5)  # 5 minutes ago\n",
    "last_event_time = now\n",
    "\n",
    "# Build test incident payload\n",
    "test_incident = {\n",
    "    \"id\": f\"TEST_{int(now.timestamp())}\",\n",
    "    \"timestamp\": now.isoformat(),\n",
    "    \"description\": json.dumps({\n",
    "        \"rule_id\": \"7563\",\n",
    "        \"rule_description\": \"Marcell davis\",\n",
    "        \"rule_level\": 10,\n",
    "        \"total_events\": 2,\n",
    "        \"agent_names\": [\"Blue Iris\"],\n",
    "        \"first_event_timestamp\": first_event_time.isoformat(),\n",
    "        \"last_event_timestamp\": last_event_time.isoformat(),\n",
    "        \"sample_event\": {\n",
    "            \"rule\": {\n",
    "                \"id\": \"7563\",\n",
    "                \"description\": \"Critical Camera Alert\",\n",
    "                \"level\": 10\n",
    "            },\n",
    "            \"agent\": {\n",
    "                \"name\": \"Blue Iris\",\n",
    "                \"id\": \"001\"\n",
    "            },\n",
    "            \"timestamp\": first_event_time.isoformat(),\n",
    "            \"data\": {\n",
    "                \"service\": \"nginx\",\n",
    "                \"status\": \"stopped\",\n",
    "                \"exit_code\": 1\n",
    "            }\n",
    "        },\n",
    "        \"csv_path\": \"/incidents/test/events.csv\"\n",
    "    }),\n",
    "    \"acknowledged\": False,\n",
    "    \"escalated\": False\n",
    "}\n",
    "\n",
    "# Send POST request using requests module\n",
    "response = requests.post(\n",
    "    url='http://192.168.178.40:8000/incidents/',\n",
    "    headers={'Content-Type': 'application/json'},\n",
    "    json=test_incident\n",
    ")\n",
    "\n",
    "if response.status_code != 200:\n",
    "    print('Error:', response.status_code, response.text)\n",
    "else:\n",
    "    print('Response:', response.json())"
   ]
  },
  {
   "cell_type": "markdown",
   "metadata": {},
   "source": []
  }
 ],
 "metadata": {
  "kernelspec": {
   "display_name": "base",
   "language": "python",
   "name": "python3"
  },
  "language_info": {
   "codemirror_mode": {
    "name": "ipython",
    "version": 3
   },
   "file_extension": ".py",
   "mimetype": "text/x-python",
   "name": "python",
   "nbconvert_exporter": "python",
   "pygments_lexer": "ipython3",
   "version": "3.11.4"
  }
 },
 "nbformat": 4,
 "nbformat_minor": 2
}
